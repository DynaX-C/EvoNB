{
 "cells": [
  {
   "cell_type": "code",
   "execution_count": null,
   "metadata": {},
   "outputs": [],
   "source": [
    "import torch\n",
    "import os\n",
    "import pandas as pd\n",
    "import numpy as np\n",
    "from tqdm import tqdm\n",
    "from datasets import Dataset\n",
    "from transformers import AutoTokenizer, AutoModelForMaskedLM\n",
    "from sklearn.manifold import TSNE\n",
    "import matplotlib.pyplot as plt\n",
    "\n",
    "device = torch.device(\"cuda\" if torch.cuda.is_available() else \"cpu\")\n",
    "\n",
    "model_checkpoint = \"esm2_t6_8M\"\n",
    "tokenizer = AutoTokenizer.from_pretrained(model_checkpoint)\n",
    "model = AutoModelForMaskedLM.from_pretrained(model_checkpoint).to(device)\n",
    "\n",
    "sequence_name = pd.read_csv(\"clu90_test.csv\").iloc[:, 0]\n",
    "sequence = pd.read_csv(\"clu90_test.csv\").iloc[:, -1]\n",
    "\n",
    "def generate_embeddings(sequence, max_length=170):\n",
    "    inputs = tokenizer(sequence, return_tensors=\"pt\", padding='max_length', max_length=max_length, truncation=True).to(device)\n",
    "    with torch.no_grad():\n",
    "        outputs = model(**inputs)\n",
    "    return outputs.logits.view(-1).cpu().numpy()\n",
    "\n",
    "embeddings = []\n",
    "for seq in tqdm(sequence):\n",
    "    emb = generate_embeddings(seq)\n",
    "    embeddings.append(emb)\n",
    "\n",
    "embeddings = np.vstack(embeddings)\n",
    "\n",
    "# T-SNE\n",
    "tsne = TSNE(n_components=2, random_state=42)\n",
    "embeddings_2d = tsne.fit_transform(embeddings)\n",
    "tsne_df = pd.DataFrame(embeddings_2d, columns=['Component 1', 'Component 2'])\n",
    "tsne_df['name'] = sequence_name\n",
    "# tsne_df.to_csv('tsne.csv', index=False)\n",
    "\n",
    "# Plot\n",
    "plt.figure(figsize=(10, 8))\n",
    "plt.scatter(embeddings_2d[:, 0], embeddings_2d[:, 1], alpha=0.5)\n",
    "plt.title('T-SNE of Sequence Embeddings')\n",
    "plt.xlabel('Component 1')\n",
    "plt.ylabel('Component 2')\n",
    "# plt.savefig('tsne.png', dpi=300)\n",
    "plt.show()"
   ]
  }
 ],
 "metadata": {
  "language_info": {
   "name": "python"
  }
 },
 "nbformat": 4,
 "nbformat_minor": 2
}
